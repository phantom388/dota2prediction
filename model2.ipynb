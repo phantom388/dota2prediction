{
 "metadata": {
  "name": ""
 },
 "nbformat": 3,
 "nbformat_minor": 0,
 "worksheets": [
  {
   "cells": [
    {
     "cell_type": "code",
     "collapsed": false,
     "input": [
      "# import libraries\n",
      "import pandas as pd\n",
      "import numpy as np\n",
      "from sklearn.svm import SVC\n",
      "from sklearn import cross_validation"
     ],
     "language": "python",
     "metadata": {},
     "outputs": [],
     "prompt_number": 1
    },
    {
     "cell_type": "code",
     "collapsed": false,
     "input": [
      "# import data\n",
      "df = pd.read_csv('./herodata.csv', names=['hero1','hero2','hero3','hero4','hero5','hero6','hero7','hero8','hero9','hero10','winning team']);\n",
      "labels = np.array(list(df['winning team']))\n",
      "teamdf = df[['hero1','hero2','hero3','hero4','hero5','hero6','hero7','hero8','hero9','hero10']]\n",
      "teams = teamdf.values.tolist()"
     ],
     "language": "python",
     "metadata": {},
     "outputs": [],
     "prompt_number": 2
    },
    {
     "cell_type": "code",
     "collapsed": false,
     "input": [
      "# Hash['hero'] = heroID\n",
      "herohash = {}\n",
      "id = 0\n",
      "for f in teams:\n",
      "    for i in range(len(f)):\n",
      "        if not herohash.has_key(f[i]):\n",
      "            herohash[f[i]] = id\n",
      "            id += 1"
     ],
     "language": "python",
     "metadata": {},
     "outputs": [],
     "prompt_number": 3
    },
    {
     "cell_type": "code",
     "collapsed": false,
     "input": [
      "# build hero pairs\n",
      "def buildPairs(hero1,hero2):\n",
      "    # returns list ( dict(hero pair), boolean(swapped))\n",
      "    hero1 = hero1.lower()\n",
      "    hero2 = hero2.lower()\n",
      "    if hero1 < hero2:\n",
      "        return [{'hero1':hero1,'hero2':hero2}, False]\n",
      "    else:\n",
      "        return [{'hero1':hero2,'hero2':hero1}, True]"
     ],
     "language": "python",
     "metadata": {},
     "outputs": [],
     "prompt_number": 4
    },
    {
     "cell_type": "code",
     "collapsed": false,
     "input": [
      "# {(heroInTeam1,heroInTeam2) = -1 if team 1 wins; 1 if team 2 wins}\n",
      "heroPairs = []\n",
      "heroResults = []\n",
      "for i in range(len(teams)):\n",
      "    hero = teams[i]\n",
      "    swapped = False\n",
      "    if labels[i] == 1:\n",
      "        result = -1\n",
      "    else:\n",
      "        result = 1\n",
      "    for i in range(0,5):\n",
      "        for j in range(5,10):\n",
      "            pair, swapped = buildPairs(hero[i],hero[j])\n",
      "            heroPairs.append(pair)\n",
      "            if swapped:\n",
      "                heroResults.append(-result)\n",
      "            else:\n",
      "                heroResults.append(result)\n"
     ],
     "language": "python",
     "metadata": {},
     "outputs": [],
     "prompt_number": 6
    },
    {
     "cell_type": "code",
     "collapsed": false,
     "input": [
      "# Vectorize the hero names (string) -> a vector\n",
      "from sklearn.feature_extraction import DictVectorizer\n",
      "vec = DictVectorizer()\n",
      "X = vec.fit_transform(heroPairs).toarray()"
     ],
     "language": "python",
     "metadata": {},
     "outputs": [],
     "prompt_number": 7
    },
    {
     "cell_type": "code",
     "collapsed": false,
     "input": [
      "# logistic regression\n",
      "from sklearn import linear_model\n",
      "lr = linear_model.LogisticRegression()\n",
      "X_train, X_test, y_train, y_test = cross_validation.train_test_split(X, heroResults, test_size=0.4, random_state=0)\n",
      "\n",
      "model = lr.fit(X_train,y_train)\n",
      "\n"
     ],
     "language": "python",
     "metadata": {},
     "outputs": [],
     "prompt_number": 20
    },
    {
     "cell_type": "code",
     "collapsed": false,
     "input": [
      "model.score(X_test, y_test)"
     ],
     "language": "python",
     "metadata": {},
     "outputs": [
      {
       "metadata": {},
       "output_type": "pyout",
       "prompt_number": 21,
       "text": [
        "0.54504666666666668"
       ]
      }
     ],
     "prompt_number": 21
    },
    {
     "cell_type": "code",
     "collapsed": false,
     "input": [
      "float(sum(y_predict == y_test))/len(y_test)"
     ],
     "language": "python",
     "metadata": {},
     "outputs": [
      {
       "metadata": {},
       "output_type": "pyout",
       "prompt_number": 10,
       "text": [
        "0.5450466666666667"
       ]
      }
     ],
     "prompt_number": 10
    },
    {
     "cell_type": "code",
     "collapsed": false,
     "input": [
      "# train the support vector machine\n",
      "clf = SVC(kernel='rbf', C=1).fit(X_train, y_train)"
     ],
     "language": "python",
     "metadata": {},
     "outputs": [],
     "prompt_number": "*"
    },
    {
     "cell_type": "code",
     "collapsed": false,
     "input": [
      "# calculate the accuracy of svm"
     ],
     "language": "python",
     "metadata": {},
     "outputs": [],
     "prompt_number": "*"
    },
    {
     "cell_type": "code",
     "collapsed": false,
     "input": [
      "# train logistic regression\n"
     ],
     "language": "python",
     "metadata": {},
     "outputs": []
    }
   ],
   "metadata": {}
  }
 ]
}