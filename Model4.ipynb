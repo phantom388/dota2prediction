{
 "metadata": {
  "name": ""
 },
 "nbformat": 3,
 "nbformat_minor": 0,
 "worksheets": [
  {
   "cells": [
    {
     "cell_type": "code",
     "collapsed": false,
     "input": [
      "training_data = open(\"trainingdata.txt\")\n",
      "games = []\n",
      "for line in training_data:\n",
      "    l = line.strip()\n",
      "    games.append(l)\n",
      "training_data.close()\n"
     ],
     "language": "python",
     "metadata": {},
     "outputs": [],
     "prompt_number": 3
    },
    {
     "cell_type": "code",
     "collapsed": false,
     "input": [
      "# calculcate win rates\n",
      "\n",
      "winRates = {}\n",
      "for n in range(len(games)):\n",
      "    line = games[n].split(\",\")\n",
      "    game = line[0:10]\n",
      "    result = int(line[10])\n",
      "    for i in range(0,5):\n",
      "        for j in range(5,10):\n",
      "            pair1 = (game[i].lower(), game[j].lower())\n",
      "            pair2 = (game[j].lower(), game[i].lower())\n",
      "            if not winRates.has_key(pair1):\n",
      "                winRates[pair1] = result\n",
      "            else:\n",
      "                winRates[pair1] += result\n",
      "            if not winRates.has_key(pair2):\n",
      "                winRates[pair2] = -result\n",
      "            else:\n",
      "                winRates[pair2] += -result"
     ],
     "language": "python",
     "metadata": {},
     "outputs": [],
     "prompt_number": 11
    },
    {
     "cell_type": "code",
     "collapsed": false,
     "input": [],
     "language": "python",
     "metadata": {},
     "outputs": [
      {
       "metadata": {},
       "output_type": "pyout",
       "prompt_number": 12,
       "text": [
        "9312"
       ]
      }
     ],
     "prompt_number": 12
    },
    {
     "cell_type": "code",
     "collapsed": false,
     "input": [],
     "language": "python",
     "metadata": {},
     "outputs": []
    }
   ],
   "metadata": {}
  }
 ]
}