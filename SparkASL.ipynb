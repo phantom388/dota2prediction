{
 "metadata": {
  "name": ""
 },
 "nbformat": 3,
 "nbformat_minor": 0,
 "worksheets": [
  {
   "cells": [
    {
     "cell_type": "markdown",
     "metadata": {},
     "source": [
      "With features as each team \n",
      "\n",
      "<b>FAIL: 20 Accuracy Not enough games with the same team."
     ]
    },
    {
     "cell_type": "code",
     "collapsed": false,
     "input": [
      "# Configure the necessary Spark environment.  pyspark needs SPARK_HOME setup\n",
      "# so it knows how to start the Spark master and some local workers for you to use.\n",
      "import os\n",
      "# Fill this in with the path to the spark-0.9.1-bin-cdh4 folder you just downloaded\n",
      "# (e.g., /home/saasbook/spark-0.9.1-bin-cdh4)\n",
      "path_to_spark = \"/home/saasbook/datascience-sp14/spark-0.9.1-bin-cdh4\"\n",
      "os.environ['SPARK_HOME'] = path_to_spark\n",
      "\n",
      "# Set the python path so that we know where to find the pyspark files.\n",
      "import sys\n",
      "path_to_pyspark = os.path.join(path_to_spark, \"python\")\n",
      "sys.path.insert(0, path_to_pyspark)\n",
      "\n",
      "from pyspark import SparkContext\n",
      "# You can set the app name to whatever you want; this just affects what\n",
      "# will show up in the UI.\n",
      "app_name = \"dotaPredictions\"\n",
      "sc = SparkContext(\"local\", app_name)"
     ],
     "language": "python",
     "metadata": {},
     "outputs": [],
     "prompt_number": 2
    },
    {
     "cell_type": "code",
     "collapsed": false,
     "input": [
      "games = sc.textFile(\"/home/saasbook/datascience-sp14/dota/dota2prediction/trainingdata.txt\",10)\n",
      "heros = sc.textFile(\"/home/saasbook/datascience-sp14/dota/dota2prediction/datdota_hero_mapper2.csv\",10)"
     ],
     "language": "python",
     "metadata": {},
     "outputs": [],
     "prompt_number": 5
    },
    {
     "cell_type": "code",
     "collapsed": false,
     "input": [
      "def splitCSV(entry):\n",
      "    items = entry.split(\",\")\n",
      "    return hash(frozenset(items[0:5])), hash(frozenset(items[5:10])), int(items[10])\n",
      "\n",
      "gamesCSV = games.map(splitCSV)"
     ],
     "language": "python",
     "metadata": {},
     "outputs": [],
     "prompt_number": 39
    },
    {
     "cell_type": "code",
     "collapsed": false,
     "input": [
      "def splitCSV2(entry):\n",
      "    items = entry.split(\",\")\n",
      "    return hash(frozenset(items[0:5])), frozenset(items[5:10])\n",
      "gamesCSV2 = games.map(splitCSV2).sortByKey()"
     ],
     "language": "python",
     "metadata": {},
     "outputs": [],
     "prompt_number": 44
    },
    {
     "cell_type": "code",
     "collapsed": false,
     "input": [
      "gamesCSV2.take(10)"
     ],
     "language": "python",
     "metadata": {},
     "outputs": [
      {
       "metadata": {},
       "output_type": "pyout",
       "prompt_number": 45,
       "text": [
        "[(-2147347634,\n",
        "  frozenset({u'Bane',\n",
        "             u'Chaos Knight',\n",
        "             u'Queen of Pain',\n",
        "             u'Sand King',\n",
        "             u'Warlock'})),\n",
        " (-2147192967,\n",
        "  frozenset({u'Gyrocopter',\n",
        "             u'Mirana',\n",
        "             u'Night Stalker',\n",
        "             u'Shadow Demon',\n",
        "             u'Undying'})),\n",
        " (-2147138664,\n",
        "  frozenset({u'Bloodseeker',\n",
        "             u'Faceless Void',\n",
        "             u'Keeper of the Light',\n",
        "             u'Phantom Lancer',\n",
        "             u'Silencer'})),\n",
        " (-2147079127,\n",
        "  frozenset({u'Earthshaker',\n",
        "             u'Nyx Assassin',\n",
        "             u'Vengeful Spirit',\n",
        "             u'Viper',\n",
        "             u'Weaver'})),\n",
        " (-2146706569,\n",
        "  frozenset({u'Doom', u'Enigma', u'Gyrocopter', u'Juggernaut', u'Visage'})),\n",
        " (-2146633198,\n",
        "  frozenset({u'Alchemist',\n",
        "             u'Bane',\n",
        "             u'Bounty Hunter',\n",
        "             u\"Nature's Prophet\",\n",
        "             u'Queen of Pain'})),\n",
        " (-2146233940,\n",
        "  frozenset({u'Bloodseeker',\n",
        "             u'Lifestealer',\n",
        "             u'Silencer',\n",
        "             u'Storm Spirit',\n",
        "             u'Witch Doctor'})),\n",
        " (-2146130948,\n",
        "  frozenset({u'Death Prophet',\n",
        "             u'Kunkka',\n",
        "             u'Medusa',\n",
        "             u'Shadow Shaman',\n",
        "             u'Windrunner'})),\n",
        " (-2146014776,\n",
        "  frozenset({u'Enchantress',\n",
        "             u'Lina',\n",
        "             u'Timbersaw',\n",
        "             u'Treant Protector',\n",
        "             u'Troll Warlord'})),\n",
        " (-2145696203,\n",
        "  frozenset({u'Lifestealer',\n",
        "             u'Mirana',\n",
        "             u'Phantom Lancer',\n",
        "             u'Riki',\n",
        "             u'Shadow Shaman'}))]"
       ]
      }
     ],
     "prompt_number": 45
    },
    {
     "cell_type": "code",
     "collapsed": false,
     "input": [
      "gamesCSV.take(10)"
     ],
     "language": "python",
     "metadata": {},
     "outputs": [
      {
       "metadata": {},
       "output_type": "pyout",
       "prompt_number": 40,
       "text": [
        "[(1716998929, -1009904870, 2),\n",
        " (1501395420, 1345820571, 1),\n",
        " (897373725, -953110504, 2),\n",
        " (1972469980, -133900242, 1),\n",
        " (703272422, -460332540, 1),\n",
        " (580261451, -1981207330, 2),\n",
        " (-1898062952, -27757845, 1),\n",
        " (2136003203, -968506226, 1),\n",
        " (1094877347, 703601420, 1),\n",
        " (1229725317, -257042414, 2)]"
       ]
      }
     ],
     "prompt_number": 40
    },
    {
     "cell_type": "code",
     "collapsed": false,
     "input": [
      "training = sc.parallelize(gamesCSV.takeSample(False, 10000, 1))\n",
      "validation = sc.parallelize(gamesCSV.takeSample(False, 2500, 1))\n",
      "test = sc.parallelize(gamesCSV.takeSample(False, 2500, 1))"
     ],
     "language": "python",
     "metadata": {},
     "outputs": [],
     "prompt_number": 41
    },
    {
     "cell_type": "code",
     "collapsed": false,
     "input": [
      "from pyspark.mllib.recommendation import ALS\n",
      "\n",
      "pValidation = validation.map(lambda x: (x[0], x[1]))\n",
      "\n",
      "model4 = ALS.train(training, 4).predictAll(pValidation)\n",
      "model8 = ALS.train(training, 8).predictAll(pValidation)\n",
      "model12 = ALS.train(training, 12).predictAll(pValidation)\n",
      "model16 = ALS.train(training, 16).predictAll(pValidation)"
     ],
     "language": "python",
     "metadata": {},
     "outputs": [],
     "prompt_number": 35
    },
    {
     "cell_type": "code",
     "collapsed": false,
     "input": [
      "import math\n",
      "\n",
      "def compute_accuracy(predicted, actual):\n",
      "    p_match = predicted.map(lambda x: (x[0]+x[1],x[2]))\n",
      "    a_match = actual.map(lambda x: (x[0]+x[1],x[2]))\n",
      "    both = p_match.join(a_match)\n",
      "    results = both.map(lambda x: 1 if (round(x[1][0]) == x[1][1]) else 0)\n",
      "    return results.reduce(lambda x, y: x + y)*1.0 / results.count()"
     ],
     "language": "python",
     "metadata": {},
     "outputs": [],
     "prompt_number": 36
    },
    {
     "cell_type": "code",
     "collapsed": false,
     "input": [
      "model4.take(10)"
     ],
     "language": "python",
     "metadata": {},
     "outputs": [
      {
       "metadata": {},
       "output_type": "pyout",
       "prompt_number": 43,
       "text": [
        "[(-2121340205, -925854968, 10.51833297964837),\n",
        " (1931906412, 209440554, 0.30418611306401178),\n",
        " (698209986, -1634616927, 1.6045701840924778),\n",
        " (-1264673329, 523705678, 0.42020231666335484),\n",
        " (-1461015017, -1589333844, 1.2245679133949194),\n",
        " (-1515063231, 471883999, 0.10609615660419472),\n",
        " (993972582, 2147441877, 0.32954672012884129),\n",
        " (-1846916707, 1861840434, 6.7429381265608015),\n",
        " (-29488660, 831410793, 0.95882405256464232),\n",
        " (1832070117, 459035437, 15.481103794330982)]"
       ]
      }
     ],
     "prompt_number": 43
    },
    {
     "cell_type": "code",
     "collapsed": false,
     "input": [
      "print compute_accuracy(model4, validation)\n",
      "print compute_accuracy(model8, validation)\n",
      "print compute_accuracy(model12, validation)\n",
      "print compute_accuracy(model16, validation)"
     ],
     "language": "python",
     "metadata": {},
     "outputs": [
      {
       "output_type": "stream",
       "stream": "stdout",
       "text": [
        "0.224327628362\n",
        "0.232273838631"
       ]
      },
      {
       "output_type": "stream",
       "stream": "stdout",
       "text": [
        "\n",
        "0.221271393643"
       ]
      },
      {
       "output_type": "stream",
       "stream": "stdout",
       "text": [
        "\n",
        "0.229217603912"
       ]
      },
      {
       "output_type": "stream",
       "stream": "stdout",
       "text": [
        "\n"
       ]
      }
     ],
     "prompt_number": 42
    },
    {
     "cell_type": "code",
     "collapsed": false,
     "input": [],
     "language": "python",
     "metadata": {},
     "outputs": []
    }
   ],
   "metadata": {}
  }
 ]
}