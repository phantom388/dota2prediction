{
 "metadata": {
  "name": ""
 },
 "nbformat": 3,
 "nbformat_minor": 0,
 "worksheets": [
  {
   "cells": [
    {
     "cell_type": "code",
     "collapsed": false,
     "input": [
      "training_data = open('matchdata.txt')\n",
      "lines = []\n",
      "for line in training_data:\n",
      "    l = line.strip()\n",
      "    lines.append(l)\n",
      "training_data.close()"
     ],
     "language": "python",
     "metadata": {},
     "outputs": [],
     "prompt_number": 3
    },
    {
     "cell_type": "code",
     "collapsed": false,
     "input": [
      "match_heros = []\n",
      "match_players = []\n",
      "results = []\n",
      "hero_id_map = {}\n",
      "player_id_map = {}\n",
      "id = 0\n",
      "\n",
      "for n in range(len(lines)):\n",
      "    game = lines[n].split(\",\")\n",
      "    heros = game[6:11]+game[16:21]\n",
      "    players = game[1:6]+game[11:16]\n",
      "    if heros[0] != '':\n",
      "        match_players.append(players)\n",
      "        match_heros.append(heros)\n",
      "        results.append(int(game[0]))\n",
      "    for h in heros:\n",
      "        if not hero_id_map.has_key(h):\n",
      "            if h != '':\n",
      "                hero_id_map[h] = id\n",
      "                id += 1\n",
      "\n",
      "    for p in players:\n",
      "        if not player_id_map.has_key(p):\n",
      "            if p != '':\n",
      "                player_id_map[p] = id\n",
      "                id += 1\n",
      "            \n",
      "NUM_OF_HEROS = len(hero_id_map)\n",
      "NUM_OF_PLAYERS = len(player_id_map)\n",
      "FEATURE_SET_SIZE = 2 * (NUM_OF_HEROS + NUM_OF_PLAYERS)\n",
      "DATA_SIZE = len(match_heros)"
     ],
     "language": "python",
     "metadata": {},
     "outputs": [],
     "prompt_number": 17
    },
    {
     "cell_type": "code",
     "collapsed": false,
     "input": [
      "import numpy as np\n",
      "\n",
      "# preprocess the labels\n",
      "labels = np.array(results, dtype = np.int8)\n",
      "\n",
      "# preprocess the data\n",
      "X = np.zeros((DATA_SIZE, FEATURE_SET_SIZE), dtype = np.int8)\n",
      "\n",
      "for row in range(DATA_SIZE):\n",
      "    heros = match_heros[row]\n",
      "    players = match_players[row]\n",
      "    for i in range(10):\n",
      "        hindex = hero_id_map[heros[i]]\n",
      "        if i >= 5:\n",
      "            hindex += NUM_OF_HEROS\n",
      "        X[row,hindex] = 1\n",
      "        \n",
      "        pindex = player_id_map[players[i]]\n",
      "        if i >= 5:\n",
      "            pindex += NUM_OF_PLAYERS\n",
      "        X[row,pindex] = 1\n",
      "    "
     ],
     "language": "python",
     "metadata": {},
     "outputs": [],
     "prompt_number": 18
    },
    {
     "cell_type": "code",
     "collapsed": false,
     "input": [
      "from sklearn import cross_validation\n",
      "# break the data into training and test set\n",
      "X_train, X_test, y_train, y_test = cross_validation.train_test_split(X, labels, test_size=0.2, random_state=100)\n",
      "\n",
      "def accuracy(y_test, y_pred):\n",
      "    return float(sum(y_pred == y_test))/len(y_test)"
     ],
     "language": "python",
     "metadata": {},
     "outputs": [],
     "prompt_number": 20
    },
    {
     "cell_type": "code",
     "collapsed": false,
     "input": [
      "from sklearn import linear_model\n",
      "logistic_reg = linear_model.LogisticRegression()\n",
      "logistic_model = logistic_reg.fit(X_train, y_train)\n",
      "\n",
      "y_predict1 = logistic_model.predict_proba(X_test)\n",
      "radiant_prob = y_predict1[:,0]\n",
      "dire_prob = y_predict1[:,1]\n",
      "\n",
      "y_predict = np.array([int(i) for i in dire_prob > radiant_prob], dtype = np.int8)\n",
      "print \"logistic regression\", accuracy(y_test, y_predict)"
     ],
     "language": "python",
     "metadata": {},
     "outputs": [
      {
       "output_type": "stream",
       "stream": "stdout",
       "text": [
        "logistic regression 0.655144032922\n"
       ]
      }
     ],
     "prompt_number": 26
    },
    {
     "cell_type": "code",
     "collapsed": false,
     "input": [],
     "language": "python",
     "metadata": {},
     "outputs": []
    }
   ],
   "metadata": {}
  }
 ]
}