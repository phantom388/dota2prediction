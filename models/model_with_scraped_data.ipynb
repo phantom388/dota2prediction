{
 "metadata": {
  "name": ""
 },
 "nbformat": 3,
 "nbformat_minor": 0,
 "worksheets": [
  {
   "cells": [
    {
     "cell_type": "code",
     "collapsed": false,
     "input": [
      "training_data = open('../dota2_scrapers/datdota_matches.csv')\n",
      "lines = []\n",
      "for line in training_data:\n",
      "    l = line.strip()\n",
      "    lines.append(l)\n",
      "training_data.close()\n",
      "del lines[0]"
     ],
     "language": "python",
     "metadata": {},
     "outputs": [],
     "prompt_number": 8
    },
    {
     "cell_type": "code",
     "collapsed": false,
     "input": [
      "match_heros = []\n",
      "match_players = []\n",
      "results = []\n",
      "hero_id_map = {}\n",
      "player_id_map = {}\n",
      "hero_id = 0\n",
      "player_id = 0\n",
      "\n",
      "for n in range(len(lines)):\n",
      "    game = lines[n].split(\",\")\n",
      "    heros = game[9:14]+game[19:24]\n",
      "    players = game[4:9]+game[14:19]\n",
      "    if heros[0] != '':\n",
      "        match_players.append(players)\n",
      "        match_heros.append(heros)\n",
      "        results.append(int(game[3]))\n",
      "    for h in heros:\n",
      "        if not hero_id_map.has_key(h):\n",
      "            if h != '':\n",
      "                hero_id_map[h] = hero_id\n",
      "                hero_id += 1\n",
      "\n",
      "    for p in players:\n",
      "        if not player_id_map.has_key(p):\n",
      "            if p != '':\n",
      "                player_id_map[p] = player_id\n",
      "                player_id += 1\n",
      "            \n",
      "NUM_OF_HEROS = len(hero_id_map)\n",
      "NUM_OF_PLAYERS = len(player_id_map)\n",
      "FEATURE_SET_SIZE = 2 * (NUM_OF_HEROS + NUM_OF_PLAYERS)\n",
      "DATA_SIZE = len(match_heros)"
     ],
     "language": "python",
     "metadata": {},
     "outputs": [],
     "prompt_number": 11
    },
    {
     "cell_type": "code",
     "collapsed": false,
     "input": [],
     "language": "python",
     "metadata": {},
     "outputs": []
    },
    {
     "cell_type": "code",
     "collapsed": false,
     "input": [
      "import numpy as np\n",
      "\n",
      "# preprocess the labels\n",
      "labels = np.array(results, dtype = np.int8)\n",
      "\n",
      "# preprocess the data\n",
      "X = np.zeros((DATA_SIZE, FEATURE_SET_SIZE), dtype = np.int8)\n",
      "\n",
      "for row in range(DATA_SIZE):\n",
      "    heros = match_heros[row]\n",
      "    players = match_players[row]\n",
      "    for i in range(10):\n",
      "        hindex = hero_id_map[heros[i]]\n",
      "        if i >= 5:\n",
      "            hindex += NUM_OF_HEROS\n",
      "        X[row,hindex] = 1\n",
      "        \n",
      "        k = players[i]\n",
      "        if k == '':\n",
      "            continue\n",
      "        pindex = 2*NUM_OF_HEROS + player_id_map[k]\n",
      "        if i >= 5:\n",
      "            pindex += NUM_OF_PLAYERS\n",
      "        X[row,pindex] = 1\n",
      "    "
     ],
     "language": "python",
     "metadata": {},
     "outputs": [],
     "prompt_number": 40
    },
    {
     "cell_type": "code",
     "collapsed": false,
     "input": [
      "from sklearn import cross_validation\n",
      "# break the data into training and test set\n",
      "X_train, X_test, y_train, y_test = cross_validation.train_test_split(X, labels, test_size=0.2, random_state=100)\n",
      "\n",
      "def accuracy(y_test, y_pred):\n",
      "    return float(sum(y_pred == y_test))/len(y_test)"
     ],
     "language": "python",
     "metadata": {},
     "outputs": [],
     "prompt_number": 41
    },
    {
     "cell_type": "code",
     "collapsed": false,
     "input": [
      "from sklearn import linear_model\n",
      "logistic_reg = linear_model.LogisticRegression()\n",
      "logistic_model = logistic_reg.fit(X_train, y_train)\n",
      "\n",
      "y_predict1 = logistic_model.predict_proba(X_test)\n",
      "radiant_prob = y_predict1[:,0]\n",
      "dire_prob = y_predict1[:,1]\n",
      "\n",
      "y_predict = np.array([int(i) for i in dire_prob > radiant_prob], dtype = np.int8)\n",
      "print \"logistic regression\", accuracy(y_test, y_predict)"
     ],
     "language": "python",
     "metadata": {},
     "outputs": [
      {
       "output_type": "stream",
       "stream": "stdout",
       "text": [
        "logistic regression 0.667763157895\n"
       ]
      }
     ],
     "prompt_number": 42
    },
    {
     "cell_type": "code",
     "collapsed": false,
     "input": [
      "true_pos = 0\n",
      "false_pos = 0\n",
      "true_neg = 0\n",
      "false_neg = 0\n",
      "\n",
      "for i in range(len(y_predict)):\n",
      "    if y_predict[i] == 1 and y_test[i] == 1:\n",
      "        true_pos += 1\n",
      "    elif y_predict[i] == 1 and y_test[i] == 0:\n",
      "        false_pos += 1\n",
      "    elif y_predict[i] == 0 and y_test[i] == 0:\n",
      "        true_neg += 1\n",
      "    else:\n",
      "        false_neg += 1\n",
      "        \n",
      "precision = float(true_pos)/(true_pos+false_pos)\n",
      "recall = float(true_pos)/(true_pos+false_neg)\n",
      "fmeasure = 2.0 * (precision*recall)/(precision+recall)\n",
      "        \n",
      "print \"true positive: \"+ str(true_pos)\n",
      "print \"false negative: \"+ str(false_pos)\n",
      "print \"true negative: \" + str(true_neg)\n",
      "print \"false negative: \" + str(false_neg)\n",
      "print \"precision: \" + str(precision)\n",
      "print \"recall: \" + str(recall)\n",
      "print \"F-measure: \" + str(fmeasure)"
     ],
     "language": "python",
     "metadata": {},
     "outputs": [
      {
       "output_type": "stream",
       "stream": "stdout",
       "text": [
        "true positive: 595\n",
        "false negative: 299\n",
        "true negative: 623\n",
        "false negative: 307\n",
        "precision: 0.665548098434\n",
        "recall: 0.659645232816\n",
        "F-measure: 0.662583518931\n"
       ]
      }
     ],
     "prompt_number": 43
    },
    {
     "cell_type": "code",
     "collapsed": false,
     "input": [],
     "language": "python",
     "metadata": {},
     "outputs": []
    }
   ],
   "metadata": {}
  }
 ]
}