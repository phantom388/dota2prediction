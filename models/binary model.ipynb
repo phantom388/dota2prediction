{
 "metadata": {
  "name": ""
 },
 "nbformat": 3,
 "nbformat_minor": 0,
 "worksheets": [
  {
   "cells": [
    {
     "cell_type": "code",
     "collapsed": false,
     "input": [
      "import numpy as np\n",
      "training_data = open(\"trainingdata.txt\")\n",
      "lines = []\n",
      "for line in training_data:\n",
      "    l = line.strip()\n",
      "    lines.append(l)\n",
      "training_data.close()"
     ],
     "language": "python",
     "metadata": {},
     "outputs": [],
     "prompt_number": 1
    },
    {
     "cell_type": "code",
     "collapsed": false,
     "input": [
      "games = []\n",
      "results = []\n",
      "hero_id_map = {}\n",
      "id = 0\n",
      "for n in range(len(lines)):\n",
      "    line = lines[n].split(\",\")\n",
      "    game = line[0:10]\n",
      "    games.append(game)\n",
      "    results.append(int(line[10]))\n",
      "    for h in game:\n",
      "        if not hero_id_map.has_key(h):\n",
      "            hero_id_map[h] = id\n",
      "            id += 1\n",
      "\n",
      "NUM_OF_HEROS = len(hero_id_map)\n",
      "FEATURE_SET_SIZE = 2 * NUM_OF_HEROS\n",
      "DATA_SIZE = len(lines)\n",
      "\n"
     ],
     "language": "python",
     "metadata": {},
     "outputs": [],
     "prompt_number": 6
    },
    {
     "cell_type": "code",
     "collapsed": false,
     "input": [
      "import numpy as np\n",
      "\n",
      "# preprocess the labels\n",
      "labels = np.array(results, dtype = np.int8)\n",
      "labels -= 1\n",
      "\n",
      "# preprocess the data\n",
      "X = np.zeros((DATA_SIZE, FEATURE_SET_SIZE), dtype = np.int8)\n",
      "\n",
      "for row in range(DATA_SIZE):\n",
      "    game = games[row]\n",
      "    for i in range(10):\n",
      "        index = hero_id_map[game[i]]\n",
      "        if i >= 5:\n",
      "            index += NUM_OF_HEROS\n",
      "        X[row,index] = 1\n",
      "    "
     ],
     "language": "python",
     "metadata": {},
     "outputs": [],
     "prompt_number": 10
    },
    {
     "cell_type": "code",
     "collapsed": false,
     "input": [
      "from sklearn import cross_validation\n",
      "# break the data into training and test set\n",
      "X_train, X_test, y_train, y_test = cross_validation.train_test_split(X, labels, test_size=0.2, random_state=100)\n",
      "\n",
      "def accuracy(y_test, y_pred):\n",
      "    return float(sum(y_pred == y_test))/len(y_test)"
     ],
     "language": "python",
     "metadata": {},
     "outputs": [],
     "prompt_number": 65
    },
    {
     "cell_type": "code",
     "collapsed": false,
     "input": [
      "from sklearn import linear_model\n",
      "logistic_reg = linear_model.LogisticRegression()\n",
      "logistic_model = logistic_reg.fit(X_train, y_train)\n",
      "\n",
      "y_predict1 = logistic_model.predict_proba(X_test)\n",
      "radiant_prob1 = y_predict1[:,0]\n",
      "dire_prob1 = y_predict1[:,1]\n",
      "\n",
      "X_test_swap = np.zeros(X_test.shape, dtype = np.int8)\n",
      "X_test_swap[:,0:NUM_OF_HEROS] = X_test[:,NUM_OF_HEROS:FEATURE_SET_SIZE]\n",
      "X_test_swap[:,NUM_OF_HEROS:FEATURE_SET_SIZE] = X_test[:,0:NUM_OF_HEROS]\n",
      "\n",
      "y_predict2 = logistic_model.predict_proba(X_test_swap)\n",
      "radiant_prob2 = y_predict2[:,1]\n",
      "dire_prob2 = y_predict2[:,0]\n",
      "\n",
      "final_radiant_prob = (radiant_prob1 + radiant_prob2)/2.0\n",
      "final_dire_prob = (dire_prob1 + dire_prob2)/2.0\n",
      "\n",
      "y_predict = np.array([int(i) for i in final_dire_prob > final_radiant_prob], dtype = np.int8)\n",
      "print \"logistic regression\", accuracy(y_test, y_predict)"
     ],
     "language": "python",
     "metadata": {},
     "outputs": [
      {
       "output_type": "stream",
       "stream": "stdout",
       "text": [
        "logistic regression 0.600333333333\n"
       ]
      }
     ],
     "prompt_number": 66
    },
    {
     "cell_type": "code",
     "collapsed": false,
     "input": [],
     "language": "python",
     "metadata": {},
     "outputs": []
    }
   ],
   "metadata": {}
  }
 ]
}