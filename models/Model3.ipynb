{
 "metadata": {
  "name": ""
 },
 "nbformat": 3,
 "nbformat_minor": 0,
 "worksheets": [
  {
   "cells": [
    {
     "cell_type": "code",
     "collapsed": false,
     "input": [
      "# import libraries\n",
      "import pandas as pd\n",
      "import numpy as np\n",
      "from sklearn.svm import SVC\n",
      "from sklearn import cross_validation\n",
      "\n",
      "# import data\n",
      "df = pd.read_csv('./herodata.csv', names=['hero1','hero2','hero3','hero4','hero5','hero6','hero7','hero8','hero9','hero10','winning team']);\n",
      "labels = np.array(list(df['winning team']))\n",
      "teamdf = df[['hero1','hero2','hero3','hero4','hero5','hero6','hero7','hero8','hero9','hero10']]\n",
      "games = teamdf.values.tolist()\n",
      "\n"
     ],
     "language": "python",
     "metadata": {},
     "outputs": [],
     "prompt_number": 1
    },
    {
     "cell_type": "code",
     "collapsed": false,
     "input": [
      "heroset = set()\n",
      "for game in games:\n",
      "    for i in range(0,10):\n",
      "        if game[i] not in heroset:\n",
      "            heroset.add(game[i].lower())"
     ],
     "language": "python",
     "metadata": {},
     "outputs": [],
     "prompt_number": 2
    },
    {
     "cell_type": "code",
     "collapsed": false,
     "input": [
      "# make dictionary to preprocess data\n",
      "# heroPair -> id\n",
      "\n",
      "herolist = list(heroset)\n",
      "heroPairs = {}\n",
      "id = 1.0\n",
      "for h1 in herolist:\n",
      "    for h2 in herolist:\n",
      "        if h1 != h2:\n",
      "            heroPairs[(h1,h2)] = id\n",
      "            id += 1"
     ],
     "language": "python",
     "metadata": {},
     "outputs": [],
     "prompt_number": 5
    },
    {
     "cell_type": "code",
     "collapsed": false,
     "input": [
      "# preprocess the data and build a design matrix\n",
      "results = 2*labels - 3 # this will transform the labels into -1 and 1\n",
      "\n",
      "X = np.zeros([len(games),25])\n",
      "for n in range(len(games)):\n",
      "    game = games[n]\n",
      "    d = 0\n",
      "    for i in range(0,5):\n",
      "        for j in range(5,10):\n",
      "            pair = (game[i].lower(),game[j].lower())\n",
      "            X[n,d] = heroPairs[pair]\n",
      "            d += 1"
     ],
     "language": "python",
     "metadata": {},
     "outputs": [],
     "prompt_number": 6
    },
    {
     "cell_type": "code",
     "collapsed": false,
     "input": [
      "from sklearn import tree\n",
      "from sklearn import ensemble\n",
      "from sklearn import linear_model\n",
      "from sklearn import svm\n",
      "\n",
      "forest = ensemble.RandomForestClassifier()\n",
      "clf = tree.tree.DecisionTreeClassifier()\n",
      "logistic_reg = linear_model.LogisticRegression()\n",
      "\n",
      "\n",
      "X_train, X_test, y_train, y_test = cross_validation.train_test_split(X, results, test_size=0.3, random_state=40)\n",
      "\n",
      "\n",
      "forest_model = forest.fit(X_train,y_train)\n",
      "tree_model = clf.fit(X_train, y_train)\n",
      "logistic_model = logistic_reg.fit(X_train, y_train)\n"
     ],
     "language": "python",
     "metadata": {},
     "outputs": [],
     "prompt_number": 21
    },
    {
     "cell_type": "code",
     "collapsed": false,
     "input": [
      "from sklearn import neighbors\n",
      "\n",
      "knn = neighbors.KNeighborsClassifier(n_neighbors = 90)\n",
      "knn_model = knn.fit(X_train, y_train)"
     ],
     "language": "python",
     "metadata": {},
     "outputs": [],
     "prompt_number": 22
    },
    {
     "cell_type": "code",
     "collapsed": false,
     "input": [
      "from sklearn.cluster import KMeans\n",
      "\n",
      "km = KMeans(n_clusters=2)\n",
      "km_model = km.fit(X_train,y_train)\n",
      "\n",
      "pred = km_model.predict(X_test)"
     ],
     "language": "python",
     "metadata": {},
     "outputs": [],
     "prompt_number": 27
    },
    {
     "cell_type": "code",
     "collapsed": false,
     "input": [
      "y_predict = 2*pred -1"
     ],
     "language": "python",
     "metadata": {},
     "outputs": [],
     "prompt_number": 30
    },
    {
     "cell_type": "code",
     "collapsed": false,
     "input": [
      "support_vec = svm.SVC()\n",
      "svm_model = support_vec.fit(X_train, y_train)"
     ],
     "language": "python",
     "metadata": {},
     "outputs": [],
     "prompt_number": 23
    },
    {
     "cell_type": "code",
     "collapsed": false,
     "input": [
      "def accuracy(y_test, y_pred):\n",
      "    return float(sum(y_pred == y_test))/len(y_test)"
     ],
     "language": "python",
     "metadata": {},
     "outputs": [],
     "prompt_number": 24
    },
    {
     "cell_type": "code",
     "collapsed": false,
     "input": [
      "y_predict1 = forest_model.predict(X_test)\n",
      "y_predict2 = tree_model.predict(X_test)\n",
      "y_predict3 = logistic_model.predict(X_test)\n",
      "y_predict4 = svm_model.predict(X_test)\n",
      "y_predict5 = knn_model.predict(X_test)\n",
      "\n",
      "print \"forest model\", accuracy(y_test, y_predict1)\n",
      "print \"tree model\", accuracy(y_test, y_predict2)\n",
      "print \"logistic regression\", accuracy(y_test, y_predict3)\n",
      "print \"svm model\", accuracy(y_test, y_predict4)\n",
      "print \"knn \", accuracy(y_test, y_predict5)"
     ],
     "language": "python",
     "metadata": {},
     "outputs": [
      {
       "output_type": "stream",
       "stream": "stdout",
       "text": [
        "forest model 0.524\n",
        "tree model 0.512666666667\n",
        "logistic regression "
       ]
      },
      {
       "output_type": "stream",
       "stream": "stdout",
       "text": [
        "0.519333333333\n",
        "svm model 0.52\n",
        "knn  0.510222222222\n"
       ]
      }
     ],
     "prompt_number": 25
    },
    {
     "cell_type": "code",
     "collapsed": false,
     "input": [],
     "language": "python",
     "metadata": {},
     "outputs": [],
     "prompt_number": 49
    },
    {
     "cell_type": "code",
     "collapsed": false,
     "input": [],
     "language": "python",
     "metadata": {},
     "outputs": []
    }
   ],
   "metadata": {}
  }
 ]
}