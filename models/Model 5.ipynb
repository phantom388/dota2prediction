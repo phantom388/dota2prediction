{
 "metadata": {
  "name": ""
 },
 "nbformat": 3,
 "nbformat_minor": 0,
 "worksheets": [
  {
   "cells": [
    {
     "cell_type": "markdown",
     "metadata": {},
     "source": [
      "> Read in the data"
     ]
    },
    {
     "cell_type": "code",
     "collapsed": false,
     "input": [
      "import numpy as np\n",
      "training_data = open(\"trainingdata.txt\")\n",
      "lines = []\n",
      "for line in training_data:\n",
      "    l = line.strip()\n",
      "    lines.append(l)\n",
      "training_data.close()"
     ],
     "language": "python",
     "metadata": {},
     "outputs": [],
     "prompt_number": 1
    },
    {
     "cell_type": "markdown",
     "metadata": {},
     "source": [
      "> Preprocess the data"
     ]
    },
    {
     "cell_type": "code",
     "collapsed": false,
     "input": [
      "games = []\n",
      "results = []\n",
      "hero_set = set()\n",
      "hero_pairs = {}\n",
      "for n in range(len(lines)):\n",
      "    line = lines[n].split(\",\")\n",
      "    game = line[0:10]\n",
      "    games.append(game)\n",
      "    results.append(int(line[10]))\n",
      "    for h in game:\n",
      "        hero_set.add(h)\n",
      "\n",
      "id = 0\n",
      "for h1 in hero_set:\n",
      "    for h2 in hero_set:\n",
      "        if h1 != h2:\n",
      "            if not hero_pairs.has_key((h1,h2)):\n",
      "                hero_pairs[(h1,h2)] = id\n",
      "                id += 1\n",
      "                \n",
      "labels = np.array(results) - 1"
     ],
     "language": "python",
     "metadata": {},
     "outputs": [],
     "prompt_number": 2
    },
    {
     "cell_type": "code",
     "collapsed": false,
     "input": [
      "from sklearn import cross_validation\n",
      "def make_pairs(game):\n",
      "    pairs = []\n",
      "    for i in game[:5]:\n",
      "        for j in game[5:]:\n",
      "            pairs.append(hero_pairs[(i,j)])\n",
      "    return pairs\n",
      "\n",
      "data_matrix = np.zeros((len(games),len(hero_pairs)))\n",
      "for i in range(len(games)):\n",
      "    indices = make_pairs(games[i])\n",
      "    row = np.zeros((1,len(hero_pairs)))\n",
      "    for index in indices:\n",
      "        row[0,index] = 1\n",
      "    data_matrix[i,:] = row\n",
      "\n",
      "X_train, X_test, y_train, y_test = cross_validation.train_test_split(data_matrix, labels, test_size=0.3, random_state=100)"
     ],
     "language": "python",
     "metadata": {},
     "outputs": [],
     "prompt_number": 3
    },
    {
     "cell_type": "code",
     "collapsed": false,
     "input": [
      "from sklearn import tree\n",
      "from sklearn import ensemble\n",
      "from sklearn import linear_model\n",
      "from sklearn import svm\n",
      "\n",
      "\n",
      "# forest = ensemble.RandomForestClassifier()\n",
      "# clf = tree.tree.DecisionTreeClassifier()\n",
      "logistic_reg = linear_model.LogisticRegression()\n",
      "\n",
      "# forest_model = forest.fit(X_train,y_train)\n",
      "# tree_model = clf.fit(X_train, y_train)\n",
      "logistic_model = logistic_reg.fit(X_train, y_train)\n",
      "# support_vec = svm.SVC()\n",
      "# svm_model = support_vec.fit(X_train, y_train)"
     ],
     "language": "python",
     "metadata": {},
     "outputs": [],
     "prompt_number": 7
    },
    {
     "cell_type": "code",
     "collapsed": false,
     "input": [
      "from sklearn import neighbors\n",
      "\n",
      "# knn = neighbors.KNeighborsClassifier(n_neighbors = 90)\n",
      "# knn_model = knn.fit(X_train, y_train)"
     ],
     "language": "python",
     "metadata": {},
     "outputs": [],
     "prompt_number": 8
    },
    {
     "cell_type": "code",
     "collapsed": false,
     "input": [
      "def accuracy(y_test, y_pred):\n",
      "    return float(sum(y_pred == y_test))/len(y_test)"
     ],
     "language": "python",
     "metadata": {},
     "outputs": [],
     "prompt_number": 9
    },
    {
     "cell_type": "code",
     "collapsed": false,
     "input": [
      "# y_predict1 = forest_model.predict(X_test)\n",
      "# y_predict2 = tree_model.predict(X_test)\n",
      "y_predict3 = logistic_model.predict(X_test)\n",
      "# y_predict4 = svm_model.predict(X_test)\n",
      "# y_predict5 = knn_model.predict(X_test)\n",
      "\n",
      "# print \"forest model\", accuracy(y_test, y_predict1)\n",
      "# print \"tree model\", accuracy(y_test, y_predict2)\n",
      "print \"logistic regression\", accuracy(y_test, y_predict3)\n",
      "# print \"svm model\", accuracy(y_test, y_predict4)\n",
      "# print \"knn \", accuracy(y_test, y_predict5)"
     ],
     "language": "python",
     "metadata": {},
     "outputs": [
      {
       "output_type": "stream",
       "stream": "stdout",
       "text": [
        "logistic regression 0.553555555556\n"
       ]
      }
     ],
     "prompt_number": 10
    },
    {
     "cell_type": "code",
     "collapsed": false,
     "input": [],
     "language": "python",
     "metadata": {},
     "outputs": [
      {
       "metadata": {},
       "output_type": "pyout",
       "prompt_number": 13,
       "text": [
        "(10500, 9312)"
       ]
      }
     ],
     "prompt_number": 13
    },
    {
     "cell_type": "code",
     "collapsed": false,
     "input": [],
     "language": "python",
     "metadata": {},
     "outputs": []
    }
   ],
   "metadata": {}
  }
 ]
}