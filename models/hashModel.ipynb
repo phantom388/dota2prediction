{
 "metadata": {
  "name": ""
 },
 "nbformat": 3,
 "nbformat_minor": 0,
 "worksheets": [
  {
   "cells": [
    {
     "cell_type": "code",
     "collapsed": false,
     "input": [
      "import numpy as np\n",
      "training_data = open(\"trainingdata.txt\")\n",
      "lines = []\n",
      "for line in training_data:\n",
      "    l = line.strip()\n",
      "    lines.append(l)\n",
      "training_data.close()"
     ],
     "language": "python",
     "metadata": {},
     "outputs": [],
     "prompt_number": 1
    },
    {
     "cell_type": "code",
     "collapsed": false,
     "input": [
      "import numpy as np\n",
      "DATA_SIZE = len(lines)\n",
      "results = []\n",
      "X = np.zeros((DATA_SIZE,2))\n",
      "\n",
      "for n in range(len(lines)):\n",
      "    line = lines[n].split(\",\")\n",
      "    game = line[0:10]\n",
      "    X[n,0] = hash(frozenset(game[:5]))\n",
      "    X[n,1] = hash(frozenset(game[5:]))\n",
      "    results.append(int(line[10]))\n",
      "labels = np.array(results,dtype=np.int8) - 1"
     ],
     "language": "python",
     "metadata": {},
     "outputs": [],
     "prompt_number": 10
    },
    {
     "cell_type": "code",
     "collapsed": false,
     "input": [
      "from sklearn import cross_validation\n",
      "# break the data into training and test set\n",
      "X_train, X_test, y_train, y_test = cross_validation.train_test_split(X, labels, test_size=0.2, random_state=100)\n",
      "\n",
      "def accuracy(y_test, y_pred):\n",
      "    return float(sum(y_pred == y_test))/len(y_test)"
     ],
     "language": "python",
     "metadata": {},
     "outputs": [],
     "prompt_number": 11
    },
    {
     "cell_type": "code",
     "collapsed": false,
     "input": [
      "from sklearn import linear_model\n",
      "logistic_reg = linear_model.LogisticRegression()\n",
      "logistic_model = logistic_reg.fit(X_train, y_train)\n",
      "\n",
      "y_predict = logistic_model.predict(X_test)\n",
      "y_predict = abs(y_predict - 1)\n",
      "print \"logistic regression\", accuracy(y_test, y_predict)"
     ],
     "language": "python",
     "metadata": {},
     "outputs": [
      {
       "output_type": "stream",
       "stream": "stdout",
       "text": [
        "logistic regression 0.508\n"
       ]
      }
     ],
     "prompt_number": 13
    },
    {
     "cell_type": "code",
     "collapsed": false,
     "input": [],
     "language": "python",
     "metadata": {},
     "outputs": []
    }
   ],
   "metadata": {}
  }
 ]
}