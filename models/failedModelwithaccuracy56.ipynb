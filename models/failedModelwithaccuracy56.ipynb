{
 "metadata": {
  "name": ""
 },
 "nbformat": 3,
 "nbformat_minor": 0,
 "worksheets": [
  {
   "cells": [
    {
     "cell_type": "code",
     "collapsed": false,
     "input": [
      "import pandas as pd\n",
      "import numpy as np\n",
      "df = pd.read_csv('./herodata.csv', names=['hero1','hero2','hero3','hero4','hero5','hero6','hero7','hero8','hero9','hero10','winning team']);\n",
      "df.info()"
     ],
     "language": "python",
     "metadata": {},
     "outputs": [
      {
       "output_type": "stream",
       "stream": "stdout",
       "text": [
        "<class 'pandas.core.frame.DataFrame'>\n",
        "Int64Index: 15000 entries, 0 to 14999\n",
        "Data columns (total 11 columns):\n",
        "hero1           15000 non-null object\n",
        "hero2           15000 non-null object\n",
        "hero3           15000 non-null object\n",
        "hero4           15000 non-null object\n",
        "hero5           15000 non-null object\n",
        "hero6           15000 non-null object\n",
        "hero7           15000 non-null object\n",
        "hero8           15000 non-null object\n",
        "hero9           15000 non-null object\n",
        "hero10          15000 non-null object\n",
        "winning team    15000 non-null int64\n",
        "dtypes: int64(1), object(10)"
       ]
      }
     ],
     "prompt_number": 1
    },
    {
     "cell_type": "code",
     "collapsed": false,
     "input": [
      "labels = np.array(list(df['winning team']))\n",
      "teams = df[['hero1','hero2','hero3','hero4','hero5','hero6','hero7','hero8','hero9','hero10']]\n",
      "mat = np.array(list(np.array(teams[i:i+1]) for i in range(0,15000)))"
     ],
     "language": "python",
     "metadata": {},
     "outputs": [],
     "prompt_number": 3
    },
    {
     "cell_type": "code",
     "collapsed": false,
     "input": [
      "d = teams.to_dict()\n",
      "e = len(d['hero1'])\n",
      "l = [{k:v[i] for k,v in d.items()} for i in range(e)]\n",
      "from sklearn.feature_extraction import DictVectorizer\n",
      "vec = DictVectorizer()\n",
      "arr = vec.fit_transform(l).toarray()\n",
      "arr"
     ],
     "language": "python",
     "metadata": {},
     "outputs": [
      {
       "metadata": {},
       "output_type": "pyout",
       "prompt_number": 38,
       "text": [
        "array([[ 0.,  0.,  0., ...,  0.,  0.,  0.],\n",
        "       [ 0.,  0.,  0., ...,  0.,  0.,  0.],\n",
        "       [ 0.,  0.,  0., ...,  0.,  0.,  0.],\n",
        "       ..., \n",
        "       [ 0.,  0.,  0., ...,  0.,  0.,  0.],\n",
        "       [ 0.,  0.,  0., ...,  0.,  0.,  0.],\n",
        "       [ 0.,  0.,  0., ...,  0.,  0.,  0.]])"
       ]
      }
     ],
     "prompt_number": 38
    },
    {
     "cell_type": "code",
     "collapsed": false,
     "input": [
      "l[0]"
     ],
     "language": "python",
     "metadata": {},
     "outputs": [
      {
       "metadata": {},
       "output_type": "pyout",
       "prompt_number": 52,
       "text": [
        "{'hero1': 'Sven',\n",
        " 'hero10': 'Slark',\n",
        " 'hero2': 'Lone Druid',\n",
        " 'hero3': 'Venomancer',\n",
        " 'hero4': 'Clockwerk',\n",
        " 'hero5': 'Shadow Shaman',\n",
        " 'hero6': 'Invoker',\n",
        " 'hero7': 'Gyrocopter',\n",
        " 'hero8': 'Anti-Mage',\n",
        " 'hero9': 'Alchemist'}"
       ]
      }
     ],
     "prompt_number": 52
    },
    {
     "cell_type": "code",
     "collapsed": false,
     "input": [
      "from sklearn.svm import SVC\n",
      "from sklearn import cross_validation\n",
      "X_train, X_test, y_train, y_test = cross_validation.train_test_split(arr, labels, test_size=0.2, random_state=0)"
     ],
     "language": "python",
     "metadata": {},
     "outputs": [],
     "prompt_number": 50
    },
    {
     "cell_type": "code",
     "collapsed": false,
     "input": [
      "clf = SVC(kernel='linear', C=0.01).fit(X_train, y_train)"
     ],
     "language": "python",
     "metadata": {},
     "outputs": [],
     "prompt_number": 51
    },
    {
     "cell_type": "code",
     "collapsed": false,
     "input": [
      "clf.score(X_test, y_test) "
     ],
     "language": "python",
     "metadata": {},
     "outputs": [
      {
       "metadata": {},
       "output_type": "pyout",
       "prompt_number": 49,
       "text": [
        "0.52249999999999996"
       ]
      }
     ],
     "prompt_number": 49
    },
    {
     "cell_type": "code",
     "collapsed": false,
     "input": [],
     "language": "python",
     "metadata": {},
     "outputs": []
    }
   ],
   "metadata": {}
  }
 ]
}